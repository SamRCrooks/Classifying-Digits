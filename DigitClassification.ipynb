{
 "cells": [
  {
   "cell_type": "code",
   "execution_count": 1,
   "metadata": {
    "scrolled": true
   },
   "outputs": [
    {
     "name": "stdout",
     "output_type": "stream",
     "text": [
      "[['label' 'pixel0' 'pixel1' ... 'pixel781' 'pixel782' 'pixel783']\n",
      " ['1' '0' '0' ... '0' '0' '0']\n",
      " ['0' '0' '0' ... '0' '0' '0']\n",
      " ...\n",
      " ['7' '0' '0' ... '0' '0' '0']\n",
      " ['6' '0' '0' ... '0' '0' '0']\n",
      " ['9' '0' '0' ... '0' '0' '0']]\n",
      "done\n"
     ]
    }
   ],
   "source": [
    "#Load the csv file into a numpy data matrix\n",
    "import numpy as np\n",
    "import matplotlib.pyplot as plt\n",
    "import sys\n",
    "import csv\n",
    "\n",
    "data = [] # Create empty data matrix\n",
    "\n",
    "#Load csv file into data --- \n",
    "with open('digitData.csv') as csvfile: \n",
    "    readCSV = csv.reader(csvfile, delimiter=',')\n",
    "    for row in readCSV:\n",
    "        if len(row) != 0:\n",
    "            data = data + [row]\n",
    "#---\n",
    "\n",
    "data =  np.asarray(data) #Convert the regular array to numpy array\n",
    "print(data)\n",
    "print(\"done\")"
   ]
  },
  {
   "cell_type": "code",
   "execution_count": 2,
   "metadata": {
    "scrolled": true
   },
   "outputs": [
    {
     "data": {
      "image/png": "[encoded data removed]",
      "text/plain": [
       "<matplotlib.figure.Figure at 0x10949e278>"
      ]
     },
     "metadata": {},
     "output_type": "display_data"
    }
   ],
   "source": [
    "#Visualize original digits \n",
    "displayPixelValues = data[23][1:]  #Gather all pixel values from first data point\n",
    "\n",
    "displayPixelValues = np.reshape(displayPixelValues, (-1, 28)) #Reshape data to 28 by 28 array instead of 784 by 1 array\n",
    "displayPixelValues = displayPixelValues.astype(np.int) #Convert the data into integers from strings\n",
    "#print(displayPixelValues) #Print out array of single digit\n",
    "\n",
    "plt.matshow(displayPixelValues, fignum=10,cmap=plt.cm.gray) #Make grayscale representation of digit\n",
    "plt.show() #Show grayscale representation of digit\n",
    "\n"
   ]
  },
  {
   "cell_type": "code",
   "execution_count": 3,
   "metadata": {},
   "outputs": [],
   "source": [
    "#Sigmoid function\n",
    "def sigmoid(x):\n",
    "    return 1/(1+np.exp(-x))"
   ]
  },
  {
   "cell_type": "code",
   "execution_count": 4,
   "metadata": {
    "scrolled": true
   },
   "outputs": [],
   "source": [
    "np.random.seed(2) \n",
    "\n",
    "layer0_neurons = 784 #Number of pixels = 784\n",
    "layer1_neurons = 270 #Number of middle layer neurons. I picked 30 for now\n",
    "layer2_neurons = 10 #Output neurons here. \n",
    "                    #The activation of the output neurons are the \"guesses\"\n",
    "#Initialize random weights and biases\n",
    "\n",
    "layer1_b = np.zeros((layer1_neurons,1))#Initialize layer_1 biases to 0. This is a 270 by 1 matrix\n",
    "layer1_w = (2*np.random.random((layer1_neurons,layer0_neurons)) - 1) / 100 #Initialize layer_1 weights to a value between -.01 and .01 This is a 270 by 784 matrix\n",
    "layer2_b = np.zeros((layer2_neurons,1)) #Initialize layer_2 biases to 0. This is a 10 by 1 matrix\n",
    "layer2_w = (2*np.random.random((layer2_neurons,layer1_neurons)) - 1) / 100 #Initialize layer_2 weights to to a value between -.01 and .01 This is a 10 by 270 matrix"
   ]
  },
  {
   "cell_type": "code",
   "execution_count": 5,
   "metadata": {},
   "outputs": [],
   "source": [
    "#Function evaluates accuracy given predictions, targets, weights, and biases\n",
    "def evaluateNetworkAccuracy(x,y,w1,b1,w2,b2):\n",
    "    z_1 = np.dot(w1,x)+b1\n",
    "    a_1 = sigmoid(z_1)\n",
    "\n",
    "    z_2 = np.dot(w2,a_1)+b2\n",
    "    a_2 = sigmoid(z_2)\n",
    "\n",
    "    predictions = np.argmax(a_2, axis = 0)\n",
    "    #print(predictions)\n",
    "    \n",
    "    return(np.sum(np.equal(y,predictions))/len(y))"
   ]
  },
  {
   "cell_type": "code",
   "execution_count": 6,
   "metadata": {},
   "outputs": [
    {
     "data": {
      "text/plain": [
       "(784, 30000)"
      ]
     },
     "execution_count": 6,
     "metadata": {},
     "output_type": "execute_result"
    }
   ],
   "source": [
    "#Separation of training (Xdata) and testing (Xtest) digits\n",
    "\n",
    "trainingSize = 30000 #Number of training sample\n",
    "Xdata = data[1:trainingSize+1,1:] #Get pixel values of data samples\n",
    "Xdata = Xdata.T #Transpose - Make columns rows and rows columns\n",
    "Xdata = Xdata.astype(np.int) #Convert values from string to integer\n",
    "Xdata = Xdata/255 #Remap grayscale values (normalize)\n",
    "\n",
    "Xtest = data[trainingSize+1:,1:]\n",
    "Xtest = Xtest.T #Transpose - Make columns rows and rows columns\n",
    "Xtest = Xtest.astype(np.int) #Convert values from string to integer\n",
    "Xtest = Xtest/255 #Remap grayscale values (normalize)\n",
    "\n",
    "labels = data[1:,0].astype(np.int)  #Get labels of each digit an numpy list\n",
    "\n",
    "Xdata.shape\n"
   ]
  },
  {
   "cell_type": "code",
   "execution_count": 7,
   "metadata": {},
   "outputs": [],
   "source": [
    "#Cost function; If labels highly differ from targets, cost is high\n",
    "def cross_entropy_cost(y, a):\n",
    "    error = np.multiply(y,np.log(a)) + np.multiply((1-y),np.log((1-a)))\n",
    "    errorSum = np.sum(error)\n",
    "    meanErrorSum = -errorSum/(y.shape[1])\n",
    "    return meanErrorSum"
   ]
  },
  {
   "cell_type": "code",
   "execution_count": 8,
   "metadata": {},
   "outputs": [],
   "source": [
    "#Get target matricies from labels\n",
    "nData = len(data) - 1\n",
    "target = np.zeros([10,nData])\n",
    "for i in range(nData):\n",
    "    target[labels[i],i] = 1\n",
    "trainingTarget = target[:,:trainingSize] \n",
    "testTarget = target[:,trainingSize:] "
   ]
  },
  {
   "cell_type": "code",
   "execution_count": 9,
   "metadata": {},
   "outputs": [],
   "source": [
    "accList=[] #List keeps track of training accuracy\n",
    "testAccList = [] #List keeps track of test accuracy\n",
    "def trackAccuracyAndCost():\n",
    "    cost = cross_entropy_cost(batchTarget,a_2)\n",
    "    costList.append(cost)\n",
    "    #print(cost)\n",
    "    acc = evaluateNetworkAccuracy(Xdata,labels[0:trainingSize],layer1_w,layer1_b,layer2_w,layer2_b)\n",
    "    accList.append(acc)\n",
    "\n",
    "    testAcc = evaluateNetworkAccuracy(Xtest,labels[trainingSize:],layer1_w,layer1_b,layer2_w,layer2_b)\n",
    "    testAccList.append(testAcc)"
   ]
  },
  {
   "cell_type": "code",
   "execution_count": 10,
   "metadata": {
    "scrolled": true
   },
   "outputs": [
    {
     "name": "stdout",
     "output_type": "stream",
     "text": [
      "Iter 0 Training Accuracy:  0.11106666666666666 Testing Accuracy:  0.11266666666666666\n",
      "Iter 1 Training Accuracy:  0.8061 Testing Accuracy:  0.8015\n",
      "Iter 2 Training Accuracy:  0.8784333333333333 Testing Accuracy:  0.8768333333333334\n",
      "Iter 3 Training Accuracy:  0.8947666666666667 Testing Accuracy:  0.89425\n",
      "Iter 4 Training Accuracy:  0.9027666666666667 Testing Accuracy:  0.9039166666666667\n",
      "Iter 5 Training Accuracy:  0.9094 Testing Accuracy:  0.90825\n",
      "Iter 6 Training Accuracy:  0.9145666666666666 Testing Accuracy:  0.9116666666666666\n",
      "Iter 7 Training Accuracy:  0.9183 Testing Accuracy:  0.9154166666666667\n",
      "Iter 8 Training Accuracy:  0.9222 Testing Accuracy:  0.9195833333333333\n",
      "Iter 9 Training Accuracy:  0.9256333333333333 Testing Accuracy:  0.9230833333333334\n",
      "Iter 10 Training Accuracy:  0.9289 Testing Accuracy:  0.9265833333333333\n",
      "Iter 11 Training Accuracy:  0.9324666666666667 Testing Accuracy:  0.93025\n",
      "Iter 12 Training Accuracy:  0.9354666666666667 Testing Accuracy:  0.933\n",
      "Iter 13 Training Accuracy:  0.9382333333333334 Testing Accuracy:  0.9364166666666667\n",
      "Iter 14 Training Accuracy:  0.9407666666666666 Testing Accuracy:  0.93875\n",
      "Iter 15 Training Accuracy:  0.9427666666666666 Testing Accuracy:  0.941\n",
      "Iter 16 Training Accuracy:  0.9453333333333334 Testing Accuracy:  0.9430833333333334\n",
      "Iter 17 Training Accuracy:  0.9472 Testing Accuracy:  0.9448333333333333\n",
      "Iter 18 Training Accuracy:  0.9491666666666667 Testing Accuracy:  0.9460833333333334\n",
      "Iter 19 Training Accuracy:  0.9517 Testing Accuracy:  0.9473333333333334\n",
      "Iter 20 Training Accuracy:  0.9532333333333334 Testing Accuracy:  0.9485833333333333\n",
      "Iter 21 Training Accuracy:  0.9552333333333334 Testing Accuracy:  0.9496666666666667\n",
      "Iter 22 Training Accuracy:  0.9568 Testing Accuracy:  0.9506666666666667\n",
      "Iter 23 Training Accuracy:  0.9583 Testing Accuracy:  0.95175\n",
      "Iter 24 Training Accuracy:  0.9597 Testing Accuracy:  0.95325\n",
      "Iter 25 Training Accuracy:  0.9611333333333333 Testing Accuracy:  0.9549166666666666\n",
      "Iter 26 Training Accuracy:  0.9625 Testing Accuracy:  0.9553333333333334\n",
      "Iter 27 Training Accuracy:  0.9636333333333333 Testing Accuracy:  0.95625\n",
      "Iter 28 Training Accuracy:  0.9647 Testing Accuracy:  0.957\n",
      "Iter 29 Training Accuracy:  0.9659333333333333 Testing Accuracy:  0.9575\n",
      "Iter 30 Training Accuracy:  0.9668666666666667 Testing Accuracy:  0.95825\n",
      "Iter 31 Training Accuracy:  0.9677333333333333 Testing Accuracy:  0.9596666666666667\n",
      "Iter 32 Training Accuracy:  0.9686 Testing Accuracy:  0.9600833333333333\n",
      "Iter 33 Training Accuracy:  0.9697 Testing Accuracy:  0.9605833333333333\n",
      "Iter 34 Training Accuracy:  0.9706333333333333 Testing Accuracy:  0.9610833333333333\n",
      "Iter 35 Training Accuracy:  0.9716333333333333 Testing Accuracy:  0.9615\n",
      "Iter 36 Training Accuracy:  0.9723333333333334 Testing Accuracy:  0.9618333333333333\n",
      "Iter 37 Training Accuracy:  0.9734 Testing Accuracy:  0.9628333333333333\n",
      "Iter 38 Training Accuracy:  0.9741666666666666 Testing Accuracy:  0.9635\n",
      "Iter 39 Training Accuracy:  0.9747333333333333 Testing Accuracy:  0.9638333333333333\n",
      "Iter 40 Training Accuracy:  0.9755 Testing Accuracy:  0.9646666666666667\n",
      "Iter 41 Training Accuracy:  0.9760333333333333 Testing Accuracy:  0.9648333333333333\n",
      "Iter 42 Training Accuracy:  0.9768333333333333 Testing Accuracy:  0.9653333333333334\n",
      "Iter 43 Training Accuracy:  0.9777 Testing Accuracy:  0.9660833333333333\n",
      "Iter 44 Training Accuracy:  0.9786333333333334 Testing Accuracy:  0.9665\n",
      "Iter 45 Training Accuracy:  0.9790333333333333 Testing Accuracy:  0.9666666666666667\n",
      "Iter 46 Training Accuracy:  0.9797333333333333 Testing Accuracy:  0.9670833333333333\n",
      "Iter 47 Training Accuracy:  0.9801666666666666 Testing Accuracy:  0.9674166666666667\n",
      "Iter 48 Training Accuracy:  0.9805666666666667 Testing Accuracy:  0.968\n",
      "Iter 49 Training Accuracy:  0.9812 Testing Accuracy:  0.9681666666666666\n",
      "Iter 50 Training Accuracy:  0.9815 Testing Accuracy:  0.9683333333333334\n",
      "Iter 51 Training Accuracy:  0.9819 Testing Accuracy:  0.9685833333333334\n",
      "Iter 52 Training Accuracy:  0.9824666666666667 Testing Accuracy:  0.9688333333333333\n",
      "Iter 53 Training Accuracy:  0.983 Testing Accuracy:  0.9691666666666666\n",
      "Iter 54 Training Accuracy:  0.9834666666666667 Testing Accuracy:  0.96925\n",
      "Iter 55 Training Accuracy:  0.984 Testing Accuracy:  0.9690833333333333\n",
      "Iter 56 Training Accuracy:  0.9843 Testing Accuracy:  0.9696666666666667\n",
      "Iter 57 Training Accuracy:  0.9845 Testing Accuracy:  0.97\n",
      "Iter 58 Training Accuracy:  0.9849333333333333 Testing Accuracy:  0.97\n",
      "Iter 59 Training Accuracy:  0.9852333333333333 Testing Accuracy:  0.97025\n",
      "Iter 60 Training Accuracy:  0.9855 Testing Accuracy:  0.9704166666666667\n",
      "Iter 61 Training Accuracy:  0.9858666666666667 Testing Accuracy:  0.9705833333333334\n",
      "Iter 62 Training Accuracy:  0.9862333333333333 Testing Accuracy:  0.97075\n",
      "Iter 63 Training Accuracy:  0.9867 Testing Accuracy:  0.9708333333333333\n",
      "Iter 64 Training Accuracy:  0.9871333333333333 Testing Accuracy:  0.971\n",
      "Iter 65 Training Accuracy:  0.9875666666666667 Testing Accuracy:  0.9710833333333333\n",
      "Iter 66 Training Accuracy:  0.9878 Testing Accuracy:  0.9713333333333334\n",
      "Iter 67 Training Accuracy:  0.9881333333333333 Testing Accuracy:  0.9714166666666667\n",
      "Iter 68 Training Accuracy:  0.9883666666666666 Testing Accuracy:  0.9715\n",
      "Iter 69 Training Accuracy:  0.9887 Testing Accuracy:  0.9715\n",
      "Iter 70 Training Accuracy:  0.9891333333333333 Testing Accuracy:  0.9716666666666667\n",
      "Iter 71 Training Accuracy:  0.9895 Testing Accuracy:  0.97175\n",
      "Iter 72 Training Accuracy:  0.9898 Testing Accuracy:  0.9716666666666667\n",
      "Iter 73 Training Accuracy:  0.99 Testing Accuracy:  0.9720833333333333\n",
      "Iter 74 Training Accuracy:  0.9902333333333333 Testing Accuracy:  0.9721666666666666\n",
      "Iter 75 Training Accuracy:  0.9905333333333334 Testing Accuracy:  0.97225\n",
      "Iter 76 Training Accuracy:  0.9908333333333333 Testing Accuracy:  0.97225\n",
      "Iter 77 Training Accuracy:  0.9910333333333333 Testing Accuracy:  0.9724166666666667\n",
      "Iter 78 Training Accuracy:  0.9911666666666666 Testing Accuracy:  0.9724166666666667\n",
      "Iter 79 Training Accuracy:  0.9913333333333333 Testing Accuracy:  0.9725\n",
      "Iter 80 Training Accuracy:  0.9915333333333334 Testing Accuracy:  0.97275\n",
      "Iter 81 Training Accuracy:  0.9918666666666667 Testing Accuracy:  0.9726666666666667\n",
      "Iter 82 Training Accuracy:  0.9921 Testing Accuracy:  0.97275\n",
      "Iter 83 Training Accuracy:  0.9923333333333333 Testing Accuracy:  0.97275\n",
      "Iter 84 Training Accuracy:  0.9924666666666667 Testing Accuracy:  0.9728333333333333\n",
      "Iter 85 Training Accuracy:  0.9926333333333334 Testing Accuracy:  0.9728333333333333\n",
      "Iter 86 Training Accuracy:  0.9928333333333333 Testing Accuracy:  0.9729166666666667\n",
      "Iter 87 Training Accuracy:  0.9931333333333333 Testing Accuracy:  0.973\n",
      "Iter 88 Training Accuracy:  0.9934666666666667 Testing Accuracy:  0.9730833333333333\n",
      "Iter 89 Training Accuracy:  0.9936666666666667 Testing Accuracy:  0.9735833333333334\n",
      "Iter 90 Training Accuracy:  0.9939 Testing Accuracy:  0.97375\n",
      "Iter 91 Training Accuracy:  0.994 Testing Accuracy:  0.97375\n",
      "Iter 92 Training Accuracy:  0.9940666666666667 Testing Accuracy:  0.9738333333333333\n",
      "Iter 93 Training Accuracy:  0.9941666666666666 Testing Accuracy:  0.9738333333333333\n",
      "Iter 94 Training Accuracy:  0.9943 Testing Accuracy:  0.9739166666666667\n",
      "Iter 95 Training Accuracy:  0.9944333333333333 Testing Accuracy:  0.9739166666666667\n",
      "Iter 96 Training Accuracy:  0.9946 Testing Accuracy:  0.9740833333333333\n",
      "Iter 97 Training Accuracy:  0.9948333333333333 Testing Accuracy:  0.9741666666666666\n",
      "Iter 98 Training Accuracy:  0.9948666666666667 Testing Accuracy:  0.9743333333333334\n",
      "Iter 99 Training Accuracy:  0.995 Testing Accuracy:  0.97425\n",
      "Iter 100 Training Accuracy:  0.9951333333333333 Testing Accuracy:  0.97425\n"
     ]
    }
   ],
   "source": [
    "accList=[] #List keeps track of training accuracy\n",
    "testAccList = [] #List keeps track of test accuracy\n",
    "costList = [] #List keeps track of cost\n",
    "\n",
    "#Initialize random weights and biases\n",
    "layer1_b = np.zeros((layer1_neurons,1))#Initialize layer_1 biases to 0. This is a 784 by 1 matrix\n",
    "layer1_w = (2*np.random.random((layer1_neurons,layer0_neurons)) - 1) /100 #Initialize layer_1 weights to a value between -.01 and .01 This is a 30 by 784 matrix\n",
    "layer2_b = np.zeros((layer2_neurons,1)) #Initialize layer_2 biases to 0. This is a 30 by 1 matrix\n",
    "layer2_w = (2*np.random.random((layer2_neurons,layer1_neurons)) - 1) /100 #Initialize layer_2 weights to to a value between -.01 and .01 This is a 10 by 30 matrix\n",
    "\n",
    "iterations = 100 #Number of times NN is exposed to entire dataset\n",
    "chunkSize = 256 #Number in digits in a batch\n",
    "learningRate = 0.00075\n",
    "\n",
    "#Calculate Accuracy before training (Iteration 0)\n",
    "acc = evaluateNetworkAccuracy(Xdata,labels[0:trainingSize],layer1_w,layer1_b,layer2_w,layer2_b)\n",
    "accList.append(acc)\n",
    "testAcc = evaluateNetworkAccuracy(Xtest,labels[trainingSize:],layer1_w,layer1_b,layer2_w,layer2_b)\n",
    "testAccList.append(testAcc)\n",
    "\n",
    "print('Iter 0','Training Accuracy: ',acc,'Testing Accuracy: ', testAcc)\n",
    "\n",
    "for i in range(1, iterations+1):\n",
    "    chunk = chunkSize\n",
    "    while(chunk <= trainingSize):\n",
    "        batch       = Xdata[:,chunk - chunkSize: chunk] #Get batch of training data\n",
    "        batchTarget = target[:,chunk - chunkSize: chunk] #Get targets of batch\n",
    "        \n",
    "        \n",
    "        \n",
    "        \n",
    "        #Forward Propagation\n",
    "        z_1 = np.dot(layer1_w,batch)+layer1_b\n",
    "        a_1 = sigmoid(z_1)\n",
    "        z_2 = np.dot(layer2_w,a_1)+layer2_b\n",
    "        a_2 = sigmoid(z_2)\n",
    "\n",
    "        #Back Propagation: Derivative Calculations\n",
    "        der_a2 = -np.divide(batchTarget,a_2) + np.divide(1-batchTarget, 1-a_2)\n",
    "        der_z2 = der_a2*a_2*(1-a_2)\n",
    "        der_w2 = np.dot(der_z2,a_1.T)\n",
    "        der_b2 = np.sum(der_z2,axis = 1,keepdims=True)/trainingSize\n",
    "        der_a1 = np.dot(layer2_w.T,der_z2)\n",
    "        der_z1 = der_a1*a_1*(1-a_1)\n",
    "        der_w1 = np.dot(der_z1,batch.T)\n",
    "        der_b1 = np.sum(der_z1,axis = 1,keepdims=True)/trainingSize\n",
    "\n",
    "        #Back Propagation: Parameter Update\n",
    "        layer2_w = layer2_w - learningRate*der_w2\n",
    "        layer2_b = layer2_b - learningRate*der_b2\n",
    "        layer1_w = layer1_w - learningRate*der_w1\n",
    "        layer1_b = layer1_b - learningRate*der_b1\n",
    "        \n",
    "        chunk+=100\n",
    "    if(i % 1 == 0):\n",
    "        cost = cross_entropy_cost(batchTarget,a_2)\n",
    "        acc = evaluateNetworkAccuracy(Xdata,labels[0:trainingSize],layer1_w,layer1_b,layer2_w,layer2_b)\n",
    "        testAcc = evaluateNetworkAccuracy(Xtest,labels[trainingSize:],layer1_w,layer1_b,layer2_w,layer2_b)\n",
    "        trackAccuracyAndCost()\n",
    "        print('Iter',i,'Training Accuracy: ', acc,'Testing Accuracy: ', testAcc)\n",
    "        \n"
   ]
  },
  {
   "cell_type": "code",
   "execution_count": 48,
   "metadata": {
    "scrolled": false
   },
   "outputs": [
    {
     "data": {
      "image/png": "[encoded data removed]",
      "text/plain": [
       "<matplotlib.figure.Figure at 0x115be7d30>"
      ]
     },
     "metadata": {},
     "output_type": "display_data"
    }
   ],
   "source": [
    "#Display Accuracy Plot\n",
    "plt.plot(np.arange(0,iterations+1,1), testAccList)\n",
    "plt.suptitle('Accuracy vs Training Iterations')\n",
    "plt.ylabel('Cost')\n",
    "plt.xlabel('Iterations')\n",
    "plt.ylim((0,1))\n",
    "plt.show()"
   ]
  },
  {
   "cell_type": "code",
   "execution_count": 49,
   "metadata": {},
   "outputs": [
    {
     "data": {
      "image/png": "[encoded data removed]",
      "text/plain": [
       "<matplotlib.figure.Figure at 0x108a83710>"
      ]
     },
     "metadata": {},
     "output_type": "display_data"
    }
   ],
   "source": [
    "from PIL import Image\n",
    "im = Image.open(\"userImage16.png\")\n",
    "#im.show()\n",
    "digitArray = np.asarray(list(im.getdata()))\n",
    "userDigit = []\n",
    "for i in range(len(digitArray)):\n",
    "    pixel = digitArray[i]\n",
    "    #print(pixel)\n",
    "    pixelBrightness = pixel[0]*0.299 + pixel[1]*0.587 + pixel[2]*0.114\n",
    "    pixelBrightness = (-(pixelBrightness) + 255)\n",
    "    userDigit.append(pixelBrightness)\n",
    "maxVal = np.max(userDigit)\n",
    "userDigit = userDigit/maxVal\n",
    "userDigit = np.reshape(userDigit, (-1, 1))\n",
    "userDigit = np.power(userDigit, .25)\n",
    "displayUserDigit = np.reshape(userDigit, (-1, im.size[0])) #Reshape data to 28 by 28 array instead of 784 by 1 array\n",
    "\n",
    "plt.matshow(displayUserDigit, fignum=10,cmap=plt.cm.gray) #Make grayscale representation of digit\n",
    "plt.show() #Show grayscale representation of digit"
   ]
  },
  {
   "cell_type": "code",
   "execution_count": 50,
   "metadata": {},
   "outputs": [],
   "source": [
    "def blur(input_image):\n",
    "    input_shape = input_image.shape\n",
    "    output_image = np.zeros(input_shape) + input_image\n",
    "    n_row = input_image.shape[0]\n",
    "    n_col = input_image.shape[1]\n",
    "    \n",
    "    for i in range(n_row):\n",
    "        for j in range(n_col):\n",
    "            pixelVal = input_image[i,j]\n",
    "            pixel_add = pixelVal * 1\n",
    "            \n",
    "            if i >0:\n",
    "                pixel_top = (i-1, j)\n",
    "                output_image[i-1,j] += pixel_add\n",
    "            if i < n_row-1:\n",
    "                pixel_bot = (i+1, j)\n",
    "                output_image[i+1,j] += pixel_add\n",
    "            if j > 0 :\n",
    "                pixel_left = (i, j-1)\n",
    "                output_image[i,j-1] += pixel_add\n",
    "            if j < n_col -1:\n",
    "                pixel_right = (i,j+1)\n",
    "                output_image[i,j+1] += pixel_add\n",
    "    return output_image / np.max(output_image)"
   ]
  },
  {
   "cell_type": "code",
   "execution_count": 51,
   "metadata": {},
   "outputs": [
    {
     "data": {
      "image/png": "[encoded data removed]",
      "text/plain": [
       "<matplotlib.figure.Figure at 0x118448710>"
      ]
     },
     "metadata": {},
     "output_type": "display_data"
    }
   ],
   "source": [
    "processedImage = displayUserDigit\n",
    "#processedImage = blur(processedImage) #blur again if wanted\n",
    "plt.matshow(processedImage, cmap=plt.cm.gray) #Make grayscale representation of digit\n",
    "plt.show() #Show grayscale representation of digit\n",
    "testImage = np.reshape(processedImage, (784,1)) \n",
    "testImage = np.power(testImage, .75)"
   ]
  },
  {
   "cell_type": "code",
   "execution_count": 52,
   "metadata": {},
   "outputs": [],
   "source": [
    "#Forward propagation of user's digit\n",
    "z_1 = np.dot(layer1_w,testImage)+layer1_b\n",
    "a_1 = sigmoid(z_1)\n",
    "z_2 = np.dot(layer2_w,a_1)+layer2_b\n",
    "a_2 = sigmoid(z_2)"
   ]
  },
  {
   "cell_type": "code",
   "execution_count": 53,
   "metadata": {
    "scrolled": false
   },
   "outputs": [
    {
     "data": {
      "image/png": "[encoded data removed]",
      "text/plain": [
       "<matplotlib.figure.Figure at 0x11619cdd8>"
      ]
     },
     "metadata": {},
     "output_type": "display_data"
    }
   ],
   "source": [
    "#Display confidences (aka guesses) for the given digit by the user\n",
    "x = ['0','1','2','3','4','5','6','7','8','9']\n",
    "plt.bar(x,a_2[:,0])\n",
    "plt.title('Digit Confidences')\n",
    "plt.ylabel('Output Activation Value')\n",
    "plt.xlabel('Digit')\n",
    "plt.ylim([0,1])\n",
    "plt.show()"
   ]
  },
  {
   "cell_type": "code",
   "execution_count": 41,
   "metadata": {},
   "outputs": [
    {
     "data": {
      "image/png": "[encoded data removed]",
      "text/plain": [
       "<matplotlib.figure.Figure at 0x10bd91cc0>"
      ]
     },
     "metadata": {},
     "output_type": "display_data"
    }
   ],
   "source": [
    "im = Image.open(\"userImage24.png\")\n",
    "#im.show()\n",
    "digitArray = np.asarray(list(im.getdata()))\n",
    "userDigit = []\n",
    "for i in range(len(digitArray)):\n",
    "    pixel = digitArray[i]\n",
    "    #print(pixel)\n",
    "    pixelBrightness = pixel[0]*0.299 + pixel[1]*0.587 + pixel[2]*0.114\n",
    "    pixelBrightness = (-(pixelBrightness) + 255)\n",
    "    userDigit.append(pixelBrightness)\n",
    "maxVal = np.max(userDigit)\n",
    "userDigit = userDigit/maxVal\n",
    "userDigit = np.reshape(userDigit, (-1, 1))\n",
    "userDigit = np.power(userDigit, .25)\n",
    "displayUserDigit = np.reshape(userDigit, (-1, im.size[0])) #Reshape data to 28 by 28 array instead of 784 by 1 array\n",
    "\n",
    "plt.matshow(displayUserDigit, fignum=10,cmap=plt.cm.gray) #Make grayscale representation of digit\n",
    "plt.show() #Show grayscale representation of digit"
   ]
  },
  {
   "cell_type": "code",
   "execution_count": 42,
   "metadata": {},
   "outputs": [
    {
     "data": {
      "image/png": "[encoded data removed]",
      "text/plain": [
       "<matplotlib.figure.Figure at 0x109788e48>"
      ]
     },
     "metadata": {},
     "output_type": "display_data"
    }
   ],
   "source": [
    "digitA = data[23][1:]  #Gather all pixel values from first data point\n",
    "digitB = data[31][1:]\n",
    "\n",
    "digitA = np.reshape(digitA, (-1, 28)) #Reshape data to 28 by 28 array instead of 784 by 1 array\n",
    "digitA = digitA.astype(np.int) #Convert the data into integers from strings\n",
    "digitB = np.reshape(digitB, (-1, 28)) #Reshape data to 28 by 28 array instead of 784 by 1 array\n",
    "digitB = digitB.astype(np.int) #Convert the data into integers from string\n",
    "\n",
    "#combined = np.concatenate((digitA,digitB),axis=1)\n",
    "combined = displayUserDigit\n",
    "combined.shape\n",
    "\n",
    "plt.matshow(combined, fignum=10,cmap=plt.cm.gray) #Make grayscale representation of digit\n",
    "plt.show() #Show grayscale representation of digit"
   ]
  },
  {
   "cell_type": "code",
   "execution_count": 43,
   "metadata": {},
   "outputs": [],
   "source": [
    "def slicer(imageString):\n",
    "    #for i in range(imageString.shape[1]):\n",
    "    #    colimageString[:,i].sum()\n",
    "    col = imageString.sum(axis=0)\n",
    "    return col"
   ]
  },
  {
   "cell_type": "code",
   "execution_count": 44,
   "metadata": {},
   "outputs": [],
   "source": [
    "sums = slicer(combined)"
   ]
  },
  {
   "cell_type": "code",
   "execution_count": 45,
   "metadata": {},
   "outputs": [
    {
     "name": "stdout",
     "output_type": "stream",
     "text": [
      "[65, 87]\n",
      "[81, 105]\n"
     ]
    }
   ],
   "source": [
    "lefts = []\n",
    "rights = []\n",
    "for i in range(sums.shape[0]-1):\n",
    "    first = sums[i]\n",
    "    second = sums[i+1]\n",
    "    if (first == 0 and second > 0):\n",
    "       lefts.append(i+1)\n",
    "    if (first >0 and second == 0):\n",
    "       rights.append(i+1)\n",
    "print(lefts)\n",
    "print(rights)"
   ]
  },
  {
   "cell_type": "code",
   "execution_count": 46,
   "metadata": {},
   "outputs": [],
   "source": [
    "combined = displayUserDigit\n",
    "pDigitSegment = []\n",
    "indivDigits = []\n",
    "for i in range(len(lefts)):\n",
    "\n",
    "    l = lefts[0]\n",
    "    r = rights[0]\n",
    "\n",
    "    digitSegment = combined[:,lefts[i]:rights[i]]\n",
    "    padSizeR = int((28-digitSegment.shape[1])/2)\n",
    "    padSizeL = (28-digitSegment.shape[1])-padSizeR\n",
    "    padR = np.zeros((28,padSizeR))\n",
    "    padL = np.zeros((28,padSizeL))\n",
    "    pDigitSegment = np.concatenate((digitSegment,padL),axis=1)\n",
    "    \n",
    "    pDigitSegment = np.concatenate((padR,pDigitSegment),axis=1)\n",
    "    indivDigits.append(pDigitSegment)"
   ]
  },
  {
   "cell_type": "code",
   "execution_count": 47,
   "metadata": {},
   "outputs": [
    {
     "name": "stdout",
     "output_type": "stream",
     "text": [
      "Detected Digit  1 :\n"
     ]
    },
    {
     "data": {
      "image/png": "[encoded data removed]",
      "text/plain": [
       "<matplotlib.figure.Figure at 0x10cbb2278>"
      ]
     },
     "metadata": {},
     "output_type": "display_data"
    },
    {
     "name": "stdout",
     "output_type": "stream",
     "text": [
      "Detected Digit  2 :\n"
     ]
    },
    {
     "data": {
      "image/png": "[encoded data removed]",
      "text/plain": [
       "<matplotlib.figure.Figure at 0x115be5c88>"
      ]
     },
     "metadata": {},
     "output_type": "display_data"
    },
    {
     "name": "stdout",
     "output_type": "stream",
     "text": [
      "Detected Digit  1  Confidences:\n"
     ]
    },
    {
     "data": {
      "image/png": "[encoded data removed]",
      "text/plain": [
       "<matplotlib.figure.Figure at 0x115bcab70>"
      ]
     },
     "metadata": {},
     "output_type": "display_data"
    },
    {
     "name": "stdout",
     "output_type": "stream",
     "text": [
      "Detected Digit  2  Confidences:\n"
     ]
    },
    {
     "data": {
      "image/png": "[encoded data removed]",
      "text/plain": [
       "<matplotlib.figure.Figure at 0x108a8d0b8>"
      ]
     },
     "metadata": {},
     "output_type": "display_data"
    },
    {
     "name": "stdout",
     "output_type": "stream",
     "text": [
      "Final Prediction: \n",
      "[2]\n",
      "[5]\n"
     ]
    }
   ],
   "source": [
    "for i in range(len(indivDigits)):\n",
    "    print('Detected Digit ', i+1,':')\n",
    "    plt.matshow(indivDigits[i], fignum=10,cmap=plt.cm.gray) #Make grayscale representation of digit\n",
    "    plt.show() #Show grayscale representation of digit\n",
    "\n",
    "\n",
    "confidences = []\n",
    "finalPrediction = []\n",
    "for i in range(len(indivDigits)):\n",
    "    digitIV = np.reshape(indivDigits[i], (784, 1))\n",
    "\n",
    "   \n",
    "    z_1 = np.dot(layer1_w,digitIV)+layer1_b\n",
    "    a_1 = sigmoid(z_1)\n",
    "    z_2 = np.dot(layer2_w,a_1)+layer2_b\n",
    "    a_2 = sigmoid(z_2)\n",
    "    confidences.append(a_2)\n",
    "    finalPrediction.append(np.argmax(a_2, axis = 0))\n",
    "for i in range(len(confidences)):\n",
    "    #Display confidences (aka guesses) for the given digits by the user\n",
    "    print('Detected Digit ', i+1 , ' Confidences:')\n",
    "    x = ['0','1','2','3','4','5','6','7','8','9']\n",
    "    a_2 = confidences[i]\n",
    "    plt.bar(x,a_2[:,0])\n",
    "    plt.title('Digit Confidences')\n",
    "    plt.ylabel('Output Activation Value')\n",
    "    plt.xlabel('Digit')\n",
    "    plt.ylim([0,1])\n",
    "    plt.show()\n",
    "print('Final Prediction: ')\n",
    "for i in range(len(finalPrediction)):\n",
    "    print(finalPrediction[i])"
   ]
  },
  {
   "cell_type": "code",
   "execution_count": null,
   "metadata": {},
   "outputs": [],
   "source": []
  }
 ],
 "metadata": {
  "kernelspec": {
   "display_name": "Python 3",
   "language": "python",
   "name": "python3"
  },
  "language_info": {
   "codemirror_mode": {
    "name": "ipython",
    "version": 3
   },
   "file_extension": ".py",
   "mimetype": "text/x-python",
   "name": "python",
   "nbconvert_exporter": "python",
   "pygments_lexer": "ipython3",
   "version": "3.6.4"
  }
 },
 "nbformat": 4,
 "nbformat_minor": 2
}
