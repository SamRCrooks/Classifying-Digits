{
 "cells": [
  {
   "cell_type": "code",
   "execution_count": 1,
   "metadata": {},
   "outputs": [
    {
     "name": "stdout",
     "output_type": "stream",
     "text": [
      "[['label' 'pixel0' 'pixel1' ..., 'pixel781' 'pixel782' 'pixel783']\n",
      " ['1' '0' '0' ..., '0' '0' '0']\n",
      " ['0' '0' '0' ..., '0' '0' '0']\n",
      " ..., \n",
      " ['7' '0' '0' ..., '0' '0' '0']\n",
      " ['6' '0' '0' ..., '0' '0' '0']\n",
      " ['9' '0' '0' ..., '0' '0' '0']]\n",
      "done\n"
     ]
    }
   ],
   "source": [
    "#Load the csv file into a numpy data matrix\n",
    "import numpy as np\n",
    "import matplotlib.pyplot as plt\n",
    "import sys\n",
    "import csv\n",
    "\n",
    "data = [] # Create empty data matrix\n",
    "\n",
    "#Load csv file into data --- \n",
    "with open('digitData.csv') as csvfile: \n",
    "    readCSV = csv.reader(csvfile, delimiter=',')\n",
    "    for row in readCSV:\n",
    "        if len(row) != 0:\n",
    "            data = data + [row]\n",
    "#---\n",
    "\n",
    "data =  np.asarray(data) #Convert regular array to numpy array.\n",
    "print(data)\n",
    "print(\"done\")"
   ]
  },
  {
   "cell_type": "code",
   "execution_count": 25,
   "metadata": {
    "scrolled": true
   },
   "outputs": [
    {
     "data": {
      "image/png": "[encoded data removed]",
      "text/plain": [
       "<matplotlib.figure.Figure at 0x10f7d1c88>"
      ]
     },
     "metadata": {},
     "output_type": "display_data"
    }
   ],
   "source": [
    "#Cell used to visualize data as a human does\n",
    "displayPixelValues = data[23][1:]  #Gather all pixel values from first data point\n",
    "\n",
    "displayPixelValues = np.reshape(displayPixelValues, (-1, 28)) #Reshape data to 28 by 28 array instead of 784 by 1 array\n",
    "displayPixelValues = displayPixelValues.astype(np.int) #Convert the data into integers from strings\n",
    "#print(displayPixelValues) #Print out array of single digit\n",
    "\n",
    "plt.matshow(displayPixelValues, fignum=10,cmap=plt.cm.gray) #Make grayscale representation of digit\n",
    "plt.show() #Show grayscale representation of digit\n",
    "\n"
   ]
  },
  {
   "cell_type": "code",
   "execution_count": 3,
   "metadata": {
    "collapsed": true
   },
   "outputs": [],
   "source": [
    "#Sigmoid function\n",
    "def sigmoid(x):\n",
    "    return 1/(1+np.exp(-x))\n"
   ]
  },
  {
   "cell_type": "code",
   "execution_count": 4,
   "metadata": {
    "collapsed": true,
    "scrolled": true
   },
   "outputs": [],
   "source": [
    "np.random.seed(2) \n",
    "\n",
    "layer0_neurons = 784 #Number of pixels = 784\n",
    "layer1_neurons = 270 #Number of middle layer neurons. I picked 30 for now\n",
    "layer2_neurons = 10 #Output neurons here. \n",
    "                    #The activation of the output neurons are the \"guesses\"\n",
    "#Initialize random weights and biases\n",
    "\n",
    "layer1_b = np.zeros((layer1_neurons,1))#Initialize layer_1 biases to 0. This is a 30 by 1 matrix\n",
    "layer1_w = (2*np.random.random((layer1_neurons,layer0_neurons)) - 1) / 100 #Initialize layer_1 weights to a value between -.01 and .01 This is a 30 by 784 matrix\n",
    "layer2_b = np.zeros((layer2_neurons,1)) #Initialize layer_2 biases to 0. This is a 10 by 1 matrix\n",
    "layer2_w = (2*np.random.random((layer2_neurons,layer1_neurons)) - 1) / 100 #Initialize layer_2 weights to to a value between -.01 and .01 This is a 10 by 30 matrix"
   ]
  },
  {
   "cell_type": "code",
   "execution_count": 5,
   "metadata": {
    "collapsed": true
   },
   "outputs": [],
   "source": [
    "#Function Evaluates Accuracy given predictions, targets, weights, and biases\n",
    "def evaluateNetworkAccuracy(x,y,w1,b1,w2,b2):\n",
    "    z_1 = np.dot(w1,x)+b1\n",
    "    a_1 = sigmoid(z_1)\n",
    "\n",
    "    z_2 = np.dot(w2,a_1)+b2\n",
    "    a_2 = sigmoid(z_2)\n",
    "\n",
    "    predictions = np.argmax(a_2, axis = 0)\n",
    "    #print(predictions)\n",
    "    \n",
    "    return(np.sum(np.equal(y,predictions))/len(y))"
   ]
  },
  {
   "cell_type": "code",
   "execution_count": 6,
   "metadata": {},
   "outputs": [
    {
     "data": {
      "text/plain": [
       "(784, 30000)"
      ]
     },
     "execution_count": 6,
     "metadata": {},
     "output_type": "execute_result"
    }
   ],
   "source": [
    "#Separation of training (Xdata) and testing (Xtest) digits\n",
    "\n",
    "trainingSize = 30000 #Number of training sample\n",
    "Xdata = data[1:trainingSize+1,1:] #Get pixel values of data samples\n",
    "Xdata = Xdata.T #Transpose - Make columns rows and rows columns\n",
    "Xdata = Xdata.astype(np.int) #Convert values from string to integer\n",
    "Xdata = Xdata/255 #Remap grayscale values (normalize)\n",
    "\n",
    "Xtest = data[trainingSize+1:,1:]\n",
    "Xtest = Xtest.T #Transpose - Make columns rows and rows columns\n",
    "Xtest = Xtest.astype(np.int) #Convert values from string to integer\n",
    "Xtest = Xtest/255 #Remap grayscale values (normalize)\n",
    "\n",
    "labels = data[1:,0].astype(np.int)  #Get labels of each digit an numpy list\n",
    "\n",
    "Xdata.shape\n"
   ]
  },
  {
   "cell_type": "code",
   "execution_count": 7,
   "metadata": {
    "collapsed": true
   },
   "outputs": [],
   "source": [
    "#Cost function; If labels highly differ from targets, cost is high\n",
    "def cross_entropy_cost(y, a):\n",
    "    error = np.multiply(y,np.log(a)) + np.multiply((1-y),np.log((1-a)))\n",
    "    errorSum = np.sum(error)\n",
    "    meanErrorSum = -errorSum/(y.shape[1])\n",
    "    return meanErrorSum"
   ]
  },
  {
   "cell_type": "code",
   "execution_count": 8,
   "metadata": {
    "collapsed": true
   },
   "outputs": [],
   "source": [
    "#Get target matricies from labels\n",
    "nData = len(data) - 1\n",
    "target = np.zeros([10,nData])\n",
    "for i in range(nData):\n",
    "    target[labels[i],i] = 1\n",
    "trainingTarget = target[:,:trainingSize] \n",
    "testTarget = target[:,trainingSize:] "
   ]
  },
  {
   "cell_type": "code",
   "execution_count": 9,
   "metadata": {
    "collapsed": true
   },
   "outputs": [],
   "source": [
    "accList=[] #List keeps track of training accuracy\n",
    "testAccList = [] #List keeps track of test accuracy\n",
    "def trackAccuracyAndCost():\n",
    "    cost = cross_entropy_cost(batchTarget,a_2)\n",
    "    costList.append(cost)\n",
    "    #print(cost)\n",
    "    acc = evaluateNetworkAccuracy(Xdata,labels[0:trainingSize],layer1_w,layer1_b,layer2_w,layer2_b)\n",
    "    accList.append(acc)\n",
    "\n",
    "    testAcc = evaluateNetworkAccuracy(Xtest,labels[trainingSize:],layer1_w,layer1_b,layer2_w,layer2_b)\n",
    "    testAccList.append(testAcc)"
   ]
  },
  {
   "cell_type": "code",
   "execution_count": 18,
   "metadata": {
    "scrolled": true
   },
   "outputs": [
    {
     "name": "stdout",
     "output_type": "stream",
     "text": [
      "Iter 0 Training Accuracy:  0.099 Testing Accuracy:  0.09725\n",
      "Iter 1 Training Accuracy:  0.8078 Testing Accuracy:  0.80425\n",
      "Iter 2 Training Accuracy:  0.878166666667 Testing Accuracy:  0.876583333333\n",
      "Iter 3 Training Accuracy:  0.894366666667 Testing Accuracy:  0.893166666667\n",
      "Iter 4 Training Accuracy:  0.903 Testing Accuracy:  0.90275\n",
      "Iter 5 Training Accuracy:  0.909833333333 Testing Accuracy:  0.908166666667\n",
      "Iter 6 Training Accuracy:  0.914666666667 Testing Accuracy:  0.912166666667\n",
      "Iter 7 Training Accuracy:  0.9193 Testing Accuracy:  0.916\n",
      "Iter 8 Training Accuracy:  0.922866666667 Testing Accuracy:  0.920333333333\n",
      "Iter 9 Training Accuracy:  0.9268 Testing Accuracy:  0.923166666667\n",
      "Iter 10 Training Accuracy:  0.930133333333 Testing Accuracy:  0.926666666667\n"
     ]
    }
   ],
   "source": [
    "accList=[] #List keeps track of training accuracy\n",
    "testAccList = [] #List keeps track of test accuracy\n",
    "costList = [] #List keeps track of cost\n",
    "\n",
    "#Initialize random weights and biases\n",
    "layer1_b = np.zeros((layer1_neurons,1))#Initialize layer_1 biases to 0. This is a 784 by 1 matrix\n",
    "layer1_w = (2*np.random.random((layer1_neurons,layer0_neurons)) - 1) /100 #Initialize layer_1 weights to a value between -.01 and .01 This is a 30 by 784 matrix\n",
    "layer2_b = np.zeros((layer2_neurons,1)) #Initialize layer_2 biases to 0. This is a 30 by 1 matrix\n",
    "layer2_w = (2*np.random.random((layer2_neurons,layer1_neurons)) - 1) /100 #Initialize layer_2 weights to to a value between -.01 and .01 This is a 10 by 30 matrix\n",
    "\n",
    "iterations = 10 #Number of times NN is exposed to entire dataset\n",
    "chunkSize = 256 #Number in digits in a batch\n",
    "learningRate = 0.00075\n",
    "\n",
    "#Calculate Accuracy before training (Iteration 0)\n",
    "acc = evaluateNetworkAccuracy(Xdata,labels[0:trainingSize],layer1_w,layer1_b,layer2_w,layer2_b)\n",
    "accList.append(acc)\n",
    "testAcc = evaluateNetworkAccuracy(Xtest,labels[trainingSize:],layer1_w,layer1_b,layer2_w,layer2_b)\n",
    "testAccList.append(testAcc)\n",
    "\n",
    "print('Iter 0','Training Accuracy: ',acc,'Testing Accuracy: ', testAcc)\n",
    "\n",
    "for i in range(1, iterations+1):\n",
    "        \n",
    "    # Forward Propagation\n",
    "    chunk = chunkSize\n",
    "    while(chunk <= trainingSize):\n",
    "        batch       = Xdata[:,chunk - chunkSize: chunk] #Get chunk of training data\n",
    "        batchTarget = target[:,chunk - chunkSize: chunk] #Get targets of chunk\n",
    "        \n",
    "        #Forward Propagation\n",
    "        z_1 = np.dot(layer1_w,batch)+layer1_b\n",
    "        a_1 = sigmoid(z_1)\n",
    "        z_2 = np.dot(layer2_w,a_1)+layer2_b\n",
    "        a_2 = sigmoid(z_2)\n",
    "\n",
    "        #Back Propagation: Derivative Calculations\n",
    "        der_a2 = -np.divide(batchTarget,a_2) + np.divide(1-batchTarget, 1-a_2)\n",
    "        der_z2 = der_a2*a_2*(1-a_2)\n",
    "        der_w2 = np.dot(der_z2,a_1.T)\n",
    "        der_b2 = 0*np.sum(der_z2,axis = 1,keepdims=True)/trainingSize\n",
    "        der_a1 = np.dot(layer2_w.T,der_z2)\n",
    "        der_z1 = der_a1*a_1*(1-a_1)\n",
    "        der_w1 = np.dot(der_z1,batch.T)\n",
    "        der_b1 = 0*np.sum(der_z1,axis = 1,keepdims=True)/trainingSize\n",
    "\n",
    "        #Back Propagation: Parameter Update\n",
    "        layer2_w = layer2_w - learningRate*der_w2\n",
    "        layer2_b = layer2_b - learningRate*der_b2\n",
    "        layer1_w = layer1_w - learningRate*der_w1\n",
    "        layer1_b = layer1_b - learningRate*der_b1\n",
    "        \n",
    "        chunk+=100\n",
    "    if(i % 1 == 0):\n",
    "        cost = cross_entropy_cost(batchTarget,a_2)\n",
    "        acc = evaluateNetworkAccuracy(Xdata,labels[0:trainingSize],layer1_w,layer1_b,layer2_w,layer2_b)\n",
    "        testAcc = evaluateNetworkAccuracy(Xtest,labels[trainingSize:],layer1_w,layer1_b,layer2_w,layer2_b)\n",
    "        trackAccuracyAndCost()\n",
    "        print('Iter',i,'Training Accuracy: ', acc,'Testing Accuracy: ', testAcc)"
   ]
  },
  {
   "cell_type": "code",
   "execution_count": 24,
   "metadata": {
    "scrolled": true
   },
   "outputs": [
    {
     "data": {
      "image/png": "[encoded data removed]",
      "text/plain": [
       "<matplotlib.figure.Figure at 0x10f70c470>"
      ]
     },
     "metadata": {},
     "output_type": "display_data"
    }
   ],
   "source": [
    "#Print Accuracy Plot\n",
    "plt.plot(np.arange(0,11,1), testAccList)\n",
    "plt.suptitle('Accuracy vs Training Iterations')\n",
    "plt.ylabel('Cost')\n",
    "plt.xlabel('Iterations')\n",
    "plt.ylim((0,1))\n",
    "plt.show()"
   ]
  },
  {
   "cell_type": "code",
   "execution_count": null,
   "metadata": {
    "collapsed": true
   },
   "outputs": [],
   "source": []
  }
 ],
 "metadata": {
  "kernelspec": {
   "display_name": "Python 3",
   "language": "python",
   "name": "python3"
  },
  "language_info": {
   "codemirror_mode": {
    "name": "ipython",
    "version": 3
   },
   "file_extension": ".py",
   "mimetype": "text/x-python",
   "name": "python",
   "nbconvert_exporter": "python",
   "pygments_lexer": "ipython3",
   "version": "3.6.3"
  }
 },
 "nbformat": 4,
 "nbformat_minor": 2
}
