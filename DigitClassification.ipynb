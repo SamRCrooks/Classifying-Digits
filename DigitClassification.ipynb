{
 "cells": [
  {
   "cell_type": "code",
   "execution_count": 1,
   "metadata": {},
   "outputs": [
    {
     "name": "stdout",
     "output_type": "stream",
     "text": [
      "[['label' 'pixel0' 'pixel1' ..., 'pixel781' 'pixel782' 'pixel783']\n",
      " ['1' '0' '0' ..., '0' '0' '0']\n",
      " ['0' '0' '0' ..., '0' '0' '0']\n",
      " ..., \n",
      " ['7' '0' '0' ..., '0' '0' '0']\n",
      " ['6' '0' '0' ..., '0' '0' '0']\n",
      " ['9' '0' '0' ..., '0' '0' '0']]\n",
      "done\n"
     ]
    }
   ],
   "source": [
    "#This section loads the csv file into a numpy data matrix\n",
    "import numpy as np\n",
    "import matplotlib.pyplot as plt\n",
    "import sys\n",
    "import csv\n",
    "\n",
    "data = [] # Create empty data matrix\n",
    "\n",
    "#Load csv file into data --- \n",
    "with open('digitData.csv') as csvfile: \n",
    "    readCSV = csv.reader(csvfile, delimiter=',')\n",
    "    for row in readCSV:\n",
    "        if len(row) != 0:\n",
    "            data = data + [row]\n",
    "#---\n",
    "\n",
    "data =  np.asarray(data) #Convert regular array to numpy array.\n",
    "print(data)\n",
    "print(\"done\")"
   ]
  },
  {
   "cell_type": "code",
   "execution_count": 2,
   "metadata": {
    "scrolled": true
   },
   "outputs": [
    {
     "name": "stdout",
     "output_type": "stream",
     "text": [
      "[[  0   0   0   0   0   0   0   0   0   0   0   0   0   0   0   0   0   0\n",
      "    0   0   0   0   0   0   0   0   0   0]\n",
      " [  0   0   0   0   0   0   0   0   0   0   0   0   0   0   0   0   0   0\n",
      "    0   0   0   0   0   0   0   0   0   0]\n",
      " [  0   0   0   0   0   0   0   0   0   0   0   0   0   0   0   0   0   0\n",
      "    0   0   0   0   0   0   0   0   0   0]\n",
      " [  0   0   0   0   0   0   0   0   0   0   0   0   0   0   0   0   0   0\n",
      "    0   0   0   0   0   0   0   0   0   0]\n",
      " [  0   0   0   0   0   0   0   0   0   0   0   0  63 171 253 253 170  63\n",
      "    0   0   0   0   0   0   0   0   0   0]\n",
      " [  0   0   0   0   0   0   0   0   1  73  73 176 237 253 252 252 252 238\n",
      "  175  21   0   0   0   0   0   0   0   0]\n",
      " [  0   0   0   0   0   0   0  27 120 252 252 252 252 237 215 221 252 253\n",
      "  252  71   0   0   0   0   0   0   0   0]\n",
      " [  0   0   0   0   0   0   0 181 252 252 252 252 252  62   0  16 190 253\n",
      "  252  71   0   0   0   0   0   0   0   0]\n",
      " [  0   0   0   0   0   0   0 119 252 205 103   0   0   0   0  16 191 253\n",
      "  252  71   0   0   0   0   0   0   0   0]\n",
      " [  0   0   0   0   0   0   0   5  35  20   0   0   0   0   0  37 252 253\n",
      "  189  10   0   0   0   0   0   0   0   0]\n",
      " [  0   0   0   0   0   0   0   0   0   0   0   0   0   0  11 150 252 253\n",
      "   76   0   0   0   0   0   0   0   0   0]\n",
      " [  0   0   0   0   0   0   0   0   0   0   0   0   0   0 155 252 252 191\n",
      "   15   0   0   0   0   0   0   0   0   0]\n",
      " [  0   0   0   0   0   0   0   0   0   0   0   0   0  47 233 253 253  84\n",
      "    0   0   0   0   0   0   0   0   0   0]\n",
      " [  0   0   0   0   0   0   0   0   0   0   0   0   0 109 252 241  97   0\n",
      "    0   0   0   0   0   0   0   0   0   0]\n",
      " [  0   0   0   0   0   0   0   0   0   0   0   0  21 212 252 195   0   0\n",
      "    0   0   0   0   0   0   0   0   0   0]\n",
      " [  0   0   0   0   0   0   0   0   0   0   0   0 144 253 252  71   0   0\n",
      "    0   0   0   0   0   0   0   0   0   0]\n",
      " [  0   0   0   0   0   0   0   0   0   0  32 212 253 255  35   0   0   0\n",
      "    0   0   0   0   0   0   0   0   0   0]\n",
      " [  0   0   0   0   0   0   0   0   0   0 115 252 252 159   5   0   0   0\n",
      "    0   0   0   0   0   0   0   0   0   0]\n",
      " [  0   0   0   0   0   0   0   0   1  99 242 252 231  41   0   0   0   0\n",
      "    0   0   0   0   0   0   0   0   0   0]\n",
      " [  0   0   0   0   0   0   0   0   1 252 252 252 108   0   0   0   0   0\n",
      "   42 125   0   0   0   0   0   0   0   0]\n",
      " [  0   0   0   0   0   0   0  16 191 253 253 232 109 171 253 253 253 255\n",
      "  253 253 253 255 180   0   0   0   0   0]\n",
      " [  0   0   0   0   0   0   0 161 252 252 252 252 252 253 252 252 252 253\n",
      "  252 252 252 180 128   0   0   0   0   0]\n",
      " [  0   0   0   0   0   0   0 155 236 252 252 252 252 237 215 195  71  72\n",
      "   71  71  71   0   0   0   0   0   0   0]\n",
      " [  0   0   0   0   0   0   0   0  62 252 210 128 252  62   0   0   0   0\n",
      "    0   0   0   0   0   0   0   0   0   0]\n",
      " [  0   0   0   0   0   0   0   0   0   0   0   0   0   0   0   0   0   0\n",
      "    0   0   0   0   0   0   0   0   0   0]\n",
      " [  0   0   0   0   0   0   0   0   0   0   0   0   0   0   0   0   0   0\n",
      "    0   0   0   0   0   0   0   0   0   0]\n",
      " [  0   0   0   0   0   0   0   0   0   0   0   0   0   0   0   0   0   0\n",
      "    0   0   0   0   0   0   0   0   0   0]\n",
      " [  0   0   0   0   0   0   0   0   0   0   0   0   0   0   0   0   0   0\n",
      "    0   0   0   0   0   0   0   0   0   0]]\n"
     ]
    },
    {
     "data": {
      "image/png": "[encoded data removed]",
      "text/plain": [
       "<matplotlib.figure.Figure at 0x107c71518>"
      ]
     },
     "metadata": {},
     "output_type": "display_data"
    },
    {
     "data": {
      "text/plain": [
       "'for x in range(28):\\n    for y in range(28):\\n        sys.stdout.write(displayPixelValues[x,y].astype(np.str) + \",\")\\n    print()'"
      ]
     },
     "execution_count": 2,
     "metadata": {},
     "output_type": "execute_result"
    }
   ],
   "source": [
    "#Cell used to visualize data as a human does\n",
    "displayPixelValues = data[23][1:]  #Gather all pixel values from first data point\n",
    "\n",
    "displayPixelValues = np.reshape(displayPixelValues, (-1, 28)) #Reshape data to 28 by 28 array instead of 784 by 1 array\n",
    "displayPixelValues = displayPixelValues.astype(np.int) #Convert the data into integers from strings\n",
    "print(displayPixelValues) #Print out array of single digit\n",
    "\n",
    "plt.matshow(displayPixelValues, fignum=10,cmap=plt.cm.gray) #Make grayscale representation of digit\n",
    "plt.show() #Show grayscale representation of digit\n",
    "\n",
    "\"\"\"for x in range(28):\n",
    "    for y in range(28):\n",
    "        sys.stdout.write(displayPixelValues[x,y].astype(np.str) + \",\")\n",
    "    print()\"\"\"\n"
   ]
  },
  {
   "cell_type": "code",
   "execution_count": 3,
   "metadata": {
    "collapsed": true
   },
   "outputs": [],
   "source": [
    "def sigmoid(x):\n",
    "    #If overflow error, return small values for zero\n",
    "    return 1/(1+np.exp(-x))"
   ]
  },
  {
   "cell_type": "code",
   "execution_count": 54,
   "metadata": {
    "collapsed": true,
    "scrolled": true
   },
   "outputs": [],
   "source": [
    "np.random.seed(2)\n",
    "\n",
    "layer0_neurons = 784 #Number of pixels = 784\n",
    "layer1_neurons = 30 #Number of middle layer neurons. I picked 30 for now\n",
    "layer2_neurons = 10 #Output neurons here. \n",
    "                    #The activation of the output neurons are the \"guesses\"\n",
    "#Initialize random weights and biases\n",
    "\n",
    "layer1_b = np.zeros((layer1_neurons,1))#Initialize layer_1 biases to 0. This is a 784 by 1 matrix\n",
    "layer1_w = (2*np.random.random((layer1_neurons,layer0_neurons)) - 1) /100 #Initialize layer_1 weights to a value between -.01 and .01 This is a 30 by 784 matrix\n",
    "layer2_b = np.zeros((layer2_neurons,1)) #Initialize layer_2 biases to 0. This is a 30 by 1 matrix\n",
    "layer2_w = (2*np.random.random((layer2_neurons,layer1_neurons)) - 1) /100 #Initialize layer_2 weights to to a value between -.01 and .01 This is a 10 by 30 matrix"
   ]
  },
  {
   "cell_type": "code",
   "execution_count": 5,
   "metadata": {},
   "outputs": [
    {
     "data": {
      "text/plain": [
       "(784, 1000)"
      ]
     },
     "execution_count": 5,
     "metadata": {},
     "output_type": "execute_result"
    }
   ],
   "source": [
    "#Matrix Calculation of Forward Propogation\n",
    "#\n",
    "trainingSize = 1000 #Number of training sample\n",
    "Xdata = data[1:trainingSize+1,1:] #Get pixel values of data samples\n",
    "Xdata = Xdata.T #Transpose - Make columns rows and rows columns\n",
    "Xdata = Xdata.astype(np.int) #Convert values from string to integer\n",
    "Xdata = Xdata/255 #Remap grayscale values (normalize)\n",
    "\n",
    "labels = data[1:,0].astype(np.int)  #Get labels of each digit an numpy list\n",
    "\n",
    "Xdata.shape\n",
    "\n"
   ]
  },
  {
   "cell_type": "code",
   "execution_count": 6,
   "metadata": {},
   "outputs": [
    {
     "name": "stdout",
     "output_type": "stream",
     "text": [
      "activation 2:\n",
      "[[ 0.50221147  0.50237385  0.50216941 ...,  0.50217624  0.50202286\n",
      "   0.50215832]\n",
      " [ 0.50887489  0.50890915  0.50881077 ...,  0.5088913   0.50887893\n",
      "   0.50890009]\n",
      " [ 0.49584275  0.49617522  0.49580917 ...,  0.49574381  0.49578623\n",
      "   0.49581402]\n",
      " ..., \n",
      " [ 0.50061857  0.5006645   0.5005805  ...,  0.50042097  0.50046936\n",
      "   0.50047225]\n",
      " [ 0.50225205  0.50234564  0.5021646  ...,  0.50218009  0.50222763\n",
      "   0.50210421]\n",
      " [ 0.49708186  0.49735863  0.49709065 ...,  0.49701233  0.49704943\n",
      "   0.49718249]]\n"
     ]
    }
   ],
   "source": [
    "# FP\n",
    "z_1 = np.dot(layer1_w,Xdata)+layer1_b\n",
    "a_1 = sigmoid(z_1)\n",
    "\n",
    "z_2 = np.dot(layer2_w,a_1)+layer2_b\n",
    "a_2 = sigmoid(z_2)\n",
    "\n",
    "print(\"activation 2:\")\n",
    "print(a_2)"
   ]
  },
  {
   "cell_type": "code",
   "execution_count": 50,
   "metadata": {},
   "outputs": [
    {
     "name": "stdout",
     "output_type": "stream",
     "text": [
      "9.99% Accurate\n",
      "[[  1.82113590e-09   9.93171032e-01   3.94543812e-09 ...,   1.65509255e-07\n",
      "    9.57266816e-03   3.84473872e-05]\n",
      " [  9.94227871e-01   2.11329904e-08   9.98859692e-01 ...,   5.67321655e-03\n",
      "    2.46121537e-05   9.30775819e-06]\n",
      " [  8.91421781e-04   1.97624100e-03   7.96294186e-03 ...,   4.95478662e-09\n",
      "    3.04634385e-03   3.17500676e-05]\n",
      " ..., \n",
      " [  1.04472846e-03   3.15520536e-04   3.36791277e-03 ...,   2.19598980e-03\n",
      "    5.79347259e-07   5.01027297e-03]\n",
      " [  4.54223639e-03   4.05653553e-05   5.01585129e-04 ...,   1.49442323e-03\n",
      "    1.26498741e-06   8.81851622e-06]\n",
      " [  5.60552595e-04   2.82465982e-04   1.94811813e-04 ...,   9.93364262e-01\n",
      "    5.12744778e-06   6.14545623e-03]]\n",
      "predictions:  [1, 0, 1, 4, 0, 0, 7, 3, 5, 3, 8, 9, 1, 3, 3, 1, 2, 0, 7, 5, 8, 6, 2, 0, 2, 3, 6, 9, 9, 7, 8, 9, 4, 9, 2, 1, 3, 1, 1, 4, 9, 1, 4, 4, 2, 6, 3, 7, 7, 4, 7, 5, 1, 9, 0, 2, 2, 3, 9, 1, 1, 1, 5, 0, 6, 3, 4, 8, 1, 0, 3, 9, 6, 2, 6, 4, 7, 1, 4, 1, 5, 4, 8, 9, 2, 9, 9, 8, 9, 6, 3, 6, 4, 6, 2, 9, 1, 2, 0, 5]\n"
     ]
    }
   ],
   "source": [
    "#Accuracy Calculation\n",
    "testSize = 100\n",
    "predictions = []\n",
    "for i in range(testSize):\n",
    "    maxIndex = 0\n",
    "    maxValue = a_2[0,i]\n",
    "    for j in range(a_2[:,i].size):\n",
    "        if(a_2[j,i] > maxValue):\n",
    "            maxIndex = j\n",
    "            maxValue = a_2[j,i]\n",
    "    #print(\"highest a_2 value for digit\",i,\": \", maxValue)\n",
    "    \n",
    "    predictions.append(maxIndex)\n",
    "\n",
    "#print(\"predictions: \")\n",
    "#print(predictions)\n",
    "\n",
    "correct = 0\n",
    "total = trainingSize+1 \n",
    "for i in range(testSize):\n",
    "    if(labels[i] == predictions[i]):\n",
    "        correct+=1\n",
    "accuracy = round(((correct/total)*100),2)\n",
    "print(str(accuracy) + '% Accurate')\n",
    "print(a_2)\n",
    "print(\"predictions: \",predictions)"
   ]
  },
  {
   "cell_type": "code",
   "execution_count": 8,
   "metadata": {
    "collapsed": true
   },
   "outputs": [],
   "source": [
    "#Squared Error Sum Calculation Used in Back Propogation\n",
    "\n",
    "errors = a_2.copy() #Copy elements of activation_2 into errors\n",
    "for d in range(trainingSize):\n",
    "    target = labels[d] #Get label of current digit\n",
    "    errors[target][d] = 1 - a_2[target][d] #Get error of index of target value\n",
    "    squaredErrorSum = 0 \n",
    "    for e in range(errors[:,d].size):\n",
    "        squaredErrorSum += (errors[e][d] ** 2) #Sum up errors and square them\n",
    "   # print(\"Squared error sum for digit \",d,\" is: \",squaredErrorSum)\n",
    "    \n",
    "#print('a2: \\n',a_2)\n",
    "#print(\"errors: \\n\",errors)\n",
    "\n"
   ]
  },
  {
   "cell_type": "code",
   "execution_count": 9,
   "metadata": {},
   "outputs": [
    {
     "data": {
      "text/plain": [
       "array([[ 0.23487619,  0.23486681,  0.23487862, ...,  0.23487823,\n",
       "         0.23488709,  0.23487926],\n",
       "       [ 0.23448912,  0.23448712,  0.23449286, ...,  0.23448816,\n",
       "         0.23448888,  0.23448765],\n",
       "       [ 0.23524216,  0.23522315,  0.23524408, ...,  0.23524781,\n",
       "         0.23524539,  0.2352438 ],\n",
       "       ..., \n",
       "       [ 0.23496809,  0.23496544,  0.23497028, ...,  0.23497947,\n",
       "         0.23497669,  0.23497652],\n",
       "       [ 0.23487385,  0.23486844,  0.2348789 , ...,  0.234878  ,\n",
       "         0.23487526,  0.23488239],\n",
       "       [ 0.23517126,  0.2351554 ,  0.23517076, ...,  0.23517524,\n",
       "         0.23517312,  0.2351655 ]])"
      ]
     },
     "execution_count": 9,
     "metadata": {},
     "output_type": "execute_result"
    }
   ],
   "source": [
    "def der_sigmoid(x):\n",
    "    return (sigmoid(x)*(1-sigmoid(x)))\n",
    "\n",
    "der_sigmoid(a_2)\n"
   ]
  },
  {
   "cell_type": "code",
   "execution_count": 96,
   "metadata": {},
   "outputs": [
    {
     "data": {
      "image/png": "[encoded data removed]",
      "text/plain": [
       "<matplotlib.figure.Figure at 0x107ec56d8>"
      ]
     },
     "metadata": {},
     "output_type": "display_data"
    }
   ],
   "source": [
    "#Graphing accuracy\n",
    "\n",
    "plt.plot(accList) #Put error/accuracy percentages in here\n",
    "plt.show()\n"
   ]
  },
  {
   "cell_type": "code",
   "execution_count": 30,
   "metadata": {
    "collapsed": true
   },
   "outputs": [],
   "source": [
    "def cross_entropy_cost(y, a):\n",
    "    error = np.multiply(y,np.log(a)) + np.multiply((1-y),np.log((1-a)))\n",
    "    errorSum = np.sum(error)\n",
    "    meanErrorSum = -errorSum/(y.shape[1])\n",
    "    return meanErrorSum"
   ]
  },
  {
   "cell_type": "code",
   "execution_count": 33,
   "metadata": {},
   "outputs": [
    {
     "name": "stdout",
     "output_type": "stream",
     "text": [
      "226.246360709\n"
     ]
    }
   ],
   "source": [
    "target = np.zeros([10,trainingSize])\n",
    "for i in range(trainingSize):\n",
    "    target[labels[i],i] = 1\n",
    "cost = cross_entropy_cost(target,a_2)\n",
    "print(cost)"
   ]
  },
  {
   "cell_type": "code",
   "execution_count": 94,
   "metadata": {},
   "outputs": [
    {
     "name": "stdout",
     "output_type": "stream",
     "text": [
      "Iter Acc:  0.089\n",
      "Iter Acc:  0.124\n",
      "Iter Acc:  0.124\n",
      "Iter Acc:  0.173\n",
      "Iter Acc:  0.367\n",
      "Iter Acc:  0.526\n",
      "Iter Acc:  0.609\n",
      "Iter Acc:  0.654\n",
      "Iter Acc:  0.703\n",
      "Iter Acc:  0.747\n",
      "Iter Acc:  0.79\n",
      "Iter Acc:  0.815\n",
      "Iter Acc:  0.845\n",
      "Iter Acc:  0.857\n",
      "Iter Acc:  0.87\n",
      "Iter Acc:  0.884\n",
      "Iter Acc:  0.891\n",
      "Iter Acc:  0.894\n",
      "Iter Acc:  0.902\n",
      "Iter Acc:  0.905\n",
      "Iter Acc:  0.913\n",
      "Iter Acc:  0.918\n",
      "Iter Acc:  0.924\n",
      "Iter Acc:  0.928\n",
      "Iter Acc:  0.929\n",
      "Iter Acc:  0.934\n",
      "Iter Acc:  0.939\n",
      "Iter Acc:  0.942\n",
      "Iter Acc:  0.943\n",
      "Iter Acc:  0.95\n",
      "Iter Acc:  0.951\n",
      "Iter Acc:  0.953\n",
      "Iter Acc:  0.955\n",
      "Iter Acc:  0.959\n",
      "Iter Acc:  0.96\n",
      "Iter Acc:  0.962\n",
      "Iter Acc:  0.965\n",
      "Iter Acc:  0.965\n",
      "Iter Acc:  0.968\n",
      "Iter Acc:  0.969\n",
      "Iter Acc:  0.971\n",
      "Iter Acc:  0.973\n",
      "Iter Acc:  0.974\n",
      "Iter Acc:  0.976\n",
      "Iter Acc:  0.977\n",
      "Iter Acc:  0.978\n",
      "Iter Acc:  0.98\n",
      "Iter Acc:  0.98\n",
      "Iter Acc:  0.98\n",
      "Iter Acc:  0.981\n"
     ]
    }
   ],
   "source": [
    "#Initialize random weights and biases\n",
    "layer1_b = np.zeros((layer1_neurons,1))#Initialize layer_1 biases to 0. This is a 784 by 1 matrix\n",
    "layer1_w = (2*np.random.random((layer1_neurons,layer0_neurons)) - 1) /100 #Initialize layer_1 weights to a value between -.01 and .01 This is a 30 by 784 matrix\n",
    "layer2_b = np.zeros((layer2_neurons,1)) #Initialize layer_2 biases to 0. This is a 30 by 1 matrix\n",
    "layer2_w = (2*np.random.random((layer2_neurons,layer1_neurons)) - 1) /100 #Initialize layer_2 weights to to a value between -.01 and .01 This is a 10 by 30 matrix\n",
    "\n",
    "accList=[]\n",
    "\n",
    "iterations = 500\n",
    "for i in range(iterations):\n",
    "    # FP\n",
    "    z_1 = np.dot(layer1_w,Xdata)+layer1_b\n",
    "    a_1 = sigmoid(z_1)\n",
    "\n",
    "    z_2 = np.dot(layer2_w,a_1)+layer2_b\n",
    "    a_2 = sigmoid(z_2)\n",
    "\n",
    "\n",
    "    cost = cross_entropy_cost(target,a_2)\n",
    "    if(i % 10 == 0):\n",
    "        #print(cost)\n",
    "        acc = evaluateNetworkAccuracy(Xdata,labels[0:trainingSize],layer1_w,layer1_b,layer2_w,layer2_b)\n",
    "        accList.append(acc)\n",
    "        print('Iter','Acc: ', acc)\n",
    "        \n",
    "    #Back Prop\n",
    "    learningRate = 0.00075\n",
    "    #Change to all with functions #Dimensions\n",
    "    der_a2 = -np.divide(target,a_2) + np.divide(1-target, 1-a_2)\n",
    "    der_z2 = der_a2*a_2*(1-a_2)\n",
    "    der_w2 = np.dot(der_z2,a_1.T)\n",
    "    der_b2 = 0*np.sum(der_z2,axis = 1,keepdims=True)/trainingSize\n",
    "    der_a1 = np.dot(layer2_w.T,der_z2)\n",
    "    der_z1 = der_a1*a_1*(1-a_1)\n",
    "    der_w1 = np.dot(der_z1,Xdata.T)\n",
    "    der_b1 = 0*np.sum(der_z1,axis = 1,keepdims=True)/trainingSize\n",
    "\n",
    "    layer2_w = layer2_w - learningRate*der_w2\n",
    "    layer2_b = layer2_b - learningRate*der_b2\n",
    "    layer1_w = layer1_w - learningRate*der_w1\n",
    "    layer1_b = layer1_b - learningRate*der_b1\n",
    "    #layer1_w.shape\n",
    "    #der_w1.shape"
   ]
  },
  {
   "cell_type": "code",
   "execution_count": 89,
   "metadata": {
    "collapsed": true
   },
   "outputs": [],
   "source": [
    "#Accuracy Stage\n",
    "def evaluateNetworkAccuracy(x,y,w1,b1,w2,b2):\n",
    "    z_1 = np.dot(w1,x)+b1\n",
    "    a_1 = sigmoid(z_1)\n",
    "\n",
    "    z_2 = np.dot(w2,a_1)+b2\n",
    "    a_2 = sigmoid(z_2)\n",
    "\n",
    "    predictions = np.argmax(a_2, axis = 0)\n",
    "    #print(predictions)\n",
    "    \n",
    "    return(np.sum(np.equal(y,predictions))/len(y))\n",
    "    "
   ]
  },
  {
   "cell_type": "code",
   "execution_count": 90,
   "metadata": {},
   "outputs": [
    {
     "data": {
      "text/plain": [
       "0.98499999999999999"
      ]
     },
     "execution_count": 90,
     "metadata": {},
     "output_type": "execute_result"
    }
   ],
   "source": [
    "evaluateNetworkAccuracy(Xdata,labels[0:trainingSize],layer1_w,layer1_b,layer2_w,layer2_b)"
   ]
  },
  {
   "cell_type": "code",
   "execution_count": null,
   "metadata": {
    "collapsed": true
   },
   "outputs": [],
   "source": []
  }
 ],
 "metadata": {
  "kernelspec": {
   "display_name": "Python 3",
   "language": "python",
   "name": "python3"
  },
  "language_info": {
   "codemirror_mode": {
    "name": "ipython",
    "version": 3
   },
   "file_extension": ".py",
   "mimetype": "text/x-python",
   "name": "python",
   "nbconvert_exporter": "python",
   "pygments_lexer": "ipython3",
   "version": "3.6.3"
  }
 },
 "nbformat": 4,
 "nbformat_minor": 2
}
