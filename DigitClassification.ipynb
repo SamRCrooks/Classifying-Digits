{
 "cells": [
  {
   "cell_type": "code",
   "execution_count": 6,
   "metadata": {},
   "outputs": [
    {
     "name": "stdout",
     "output_type": "stream",
     "text": [
      "[['label' 'pixel0' 'pixel1' ..., 'pixel781' 'pixel782' 'pixel783']\n",
      " ['1' '0' '0' ..., '0' '0' '0']\n",
      " ['0' '0' '0' ..., '0' '0' '0']\n",
      " ..., \n",
      " ['7' '0' '0' ..., '0' '0' '0']\n",
      " ['6' '0' '0' ..., '0' '0' '0']\n",
      " ['9' '0' '0' ..., '0' '0' '0']]\n",
      "done\n"
     ]
    }
   ],
   "source": [
    "#This section loads the csv file into a numpy data matrix\n",
    "import numpy as np\n",
    "import csv\n",
    "import matplotlib.pyplot as plt\n",
    "\n",
    "data = [] # Create empty data list\n",
    "\n",
    "#Load csv file into data --- \n",
    "with open('digitData.csv') as csvfile: \n",
    "    readCSV = csv.reader(csvfile, delimiter=',')\n",
    "    for row in readCSV:\n",
    "        if len(row) != 0:\n",
    "            data = data + [row]\n",
    "#---\n",
    "\n",
    "data =  np.asarray(data) #Convert regular array to numpy array.\n",
    "print(data)\n",
    "print(\"done\")"
   ]
  },
  {
   "cell_type": "code",
   "execution_count": 2,
   "metadata": {
    "scrolled": true
   },
   "outputs": [
    {
     "name": "stdout",
     "output_type": "stream",
     "text": [
      "[[  0   0   0   0   0   0   0   0   0   0   0   0   0   0   0   0   0   0\n",
      "    0   0   0   0   0   0   0   0   0   0]\n",
      " [  0   0   0   0   0   0   0   0   0   0   0   0   0   0   0   0   0   0\n",
      "    0   0   0   0   0   0   0   0   0   0]\n",
      " [  0   0   0   0   0   0   0   0   0   0   0   0   0   0   0   0   0   0\n",
      "    0   0   0   0   0   0   0   0   0   0]\n",
      " [  0   0   0   0   0   0   0   0   0   0   0   0   0   0   0   0   0   0\n",
      "    0   0   0   0   0   0   0   0   0   0]\n",
      " [  0   0   0   0   0   0   0   0   0   0  18  30 137 137 192  86  72   1\n",
      "    0   0   0   0   0   0   0   0   0   0]\n",
      " [  0   0   0   0   0   0   0   0  13  86 250 254 254 254 254 217 246 151\n",
      "   32   0   0   0   0   0   0   0   0   0]\n",
      " [  0   0   0   0   0   0   0  16 179 254 254 254 254 254 254 254 254 254\n",
      "  231  54  15   0   0   0   0   0   0   0]\n",
      " [  0   0   0   0   0   0   0  72 254 254 254 254 254 254 254 254 254 254\n",
      "  254 254 104   0   0   0   0   0   0   0]\n",
      " [  0   0   0   0   0   0  61 191 254 254 254 254 254 109  83 199 254 254\n",
      "  254 254 243  85   0   0   0   0   0   0]\n",
      " [  0   0   0   0   0   0 172 254 254 254 202 147 147  45   0  11  29 200\n",
      "  254 254 254 171   0   0   0   0   0   0]\n",
      " [  0   0   0   0   0   1 174 254 254  89  67   0   0   0   0   0   0 128\n",
      "  252 254 254 212  76   0   0   0   0   0]\n",
      " [  0   0   0   0   0  47 254 254 254  29   0   0   0   0   0   0   0   0\n",
      "   83 254 254 254 153   0   0   0   0   0]\n",
      " [  0   0   0   0   0  80 254 254 240  24   0   0   0   0   0   0   0   0\n",
      "   25 240 254 254 153   0   0   0   0   0]\n",
      " [  0   0   0   0   0  64 254 254 186   7   0   0   0   0   0   0   0   0\n",
      "    0 166 254 254 224  12   0   0   0   0]\n",
      " [  0   0   0   0  14 232 254 254 254  29   0   0   0   0   0   0   0   0\n",
      "    0  75 254 254 254  17   0   0   0   0]\n",
      " [  0   0   0   0  18 254 254 254 254  29   0   0   0   0   0   0   0   0\n",
      "    0  48 254 254 254  17   0   0   0   0]\n",
      " [  0   0   0   0   2 163 254 254 254  29   0   0   0   0   0   0   0   0\n",
      "    0  48 254 254 254  17   0   0   0   0]\n",
      " [  0   0   0   0   0  94 254 254 254 200  12   0   0   0   0   0   0   0\n",
      "   16 209 254 254 150   1   0   0   0   0]\n",
      " [  0   0   0   0   0  15 206 254 254 254 202  66   0   0   0   0   0  21\n",
      "  161 254 254 245  31   0   0   0   0   0]\n",
      " [  0   0   0   0   0   0  60 212 254 254 254 194  48  48  34  41  48 209\n",
      "  254 254 254 171   0   0   0   0   0   0]\n",
      " [  0   0   0   0   0   0   0  86 243 254 254 254 254 254 233 243 254 254\n",
      "  254 254 254  86   0   0   0   0   0   0]\n",
      " [  0   0   0   0   0   0   0   0 114 254 254 254 254 254 254 254 254 254\n",
      "  254 239  86  11   0   0   0   0   0   0]\n",
      " [  0   0   0   0   0   0   0   0  13 182 254 254 254 254 254 254 254 254\n",
      "  243  70   0   0   0   0   0   0   0   0]\n",
      " [  0   0   0   0   0   0   0   0   0   8  76 146 254 255 254 255 146  19\n",
      "   15   0   0   0   0   0   0   0   0   0]\n",
      " [  0   0   0   0   0   0   0   0   0   0   0   0   0   0   0   0   0   0\n",
      "    0   0   0   0   0   0   0   0   0   0]\n",
      " [  0   0   0   0   0   0   0   0   0   0   0   0   0   0   0   0   0   0\n",
      "    0   0   0   0   0   0   0   0   0   0]\n",
      " [  0   0   0   0   0   0   0   0   0   0   0   0   0   0   0   0   0   0\n",
      "    0   0   0   0   0   0   0   0   0   0]\n",
      " [  0   0   0   0   0   0   0   0   0   0   0   0   0   0   0   0   0   0\n",
      "    0   0   0   0   0   0   0   0   0   0]]\n"
     ]
    },
    {
     "data": {
      "image/png": "[encoded data removed]",
      "text/plain": [
       "<matplotlib.figure.Figure at 0x114783390>"
      ]
     },
     "metadata": {},
     "output_type": "display_data"
    }
   ],
   "source": [
    "#Cell used to visualize data as a human does\n",
    "\n",
    "displayPixelValues = data[2][1:]  #Gather all pixel values from first data point\n",
    "\n",
    "displayPixelValues = np.reshape(displayPixelValues, (-1, 28)) #Reshape data to 28 by 28 array instead of 784 by 1 array\n",
    "displayPixelValues = displayPixelValues.astype(np.int) #Convert the data into integers from strings\n",
    "print(displayPixelValues) #Print out array of single digit\n",
    "\n",
    "plt.matshow(displayPixelValues, fignum=10,cmap=plt.cm.gray) #Make grayscale representation of digit\n",
    "plt.show() #Show grayscale representation of digit"
   ]
  },
  {
   "cell_type": "code",
   "execution_count": 3,
   "metadata": {},
   "outputs": [
    {
     "data": {
      "text/plain": [
       "'def squaredErrorSum(errors, lablel):\\n    errors[label][0] = 1 - activation_2[label] #Get error of index of target value\\n    squaredErrorSum = 0 \\n    for e in range(errors.size):\\n        squaredErrorSum += (errors[e][0] ** 2) #Sum up errors and square them'"
      ]
     },
     "execution_count": 3,
     "metadata": {},
     "output_type": "execute_result"
    }
   ],
   "source": [
    "def sigmoid(x):\n",
    "    #If overflow error, return small values for zero\n",
    "    return 1/(1+np.exp(-x))\n",
    "\"\"\"def squaredErrorSum(errors, lablel):\n",
    "    errors[label][0] = 1 - activation_2[label] #Get error of index of target value\n",
    "    squaredErrorSum = 0 \n",
    "    for e in range(errors.size):\n",
    "        squaredErrorSum += (errors[e][0] ** 2) #Sum up errors and square them\"\"\""
   ]
  },
  {
   "cell_type": "code",
   "execution_count": 4,
   "metadata": {
    "collapsed": true,
    "scrolled": true
   },
   "outputs": [],
   "source": [
    "#np.random.seed(1)\n",
    "\n",
    "layer0_neurons = 784 #Number of pixels = 784\n",
    "layer1_neurons = 30 #Number of middle layer neurons. I picked 30 for now\n",
    "layer2_neurons = 10 #Output neurons here. \n",
    "                    #The activation of the output neurons are the \"guesses\"\n",
    "#Initialize random weights and biases\n",
    "layer1_b = np.zeros((layer1_neurons,1))#Initialize layer_1 biases to 0. This is a 784 by 1 matrix\n",
    "layer1_w = (2*np.random.random((layer1_neurons,layer0_neurons)) - 1) /100 #Initialize layer_1 weights to a value between -.01 and .01 This is a 30 by 784 matrix\n",
    "layer2_b = np.zeros((layer2_neurons,1)) #Initialize layer_2 biases to 0. This is a 30 by 1 matrix\n",
    "layer2_w = (2*np.random.random((layer2_neurons,layer1_neurons)) - 1) /100 #Initialize layer_2 weights to to a value between -.01 and .01 This is a 10 by 30 matrix"
   ]
  },
  {
   "cell_type": "code",
   "execution_count": 5,
   "metadata": {
    "scrolled": true
   },
   "outputs": [
    {
     "name": "stdout",
     "output_type": "stream",
     "text": [
      "Digit example 1 final layer activation (guesses):\n",
      "[[ 0.50323887]\n",
      " [ 0.4935041 ]\n",
      " [ 0.49589489]\n",
      " [ 0.4966918 ]\n",
      " [ 0.49667456]\n",
      " [ 0.50091728]\n",
      " [ 0.4929486 ]\n",
      " [ 0.49761832]\n",
      " [ 0.49065845]\n",
      " [ 0.49783396]]\n",
      "Squared error sum is 2.47921234673\n",
      "Digit example 2 final layer activation (guesses):\n",
      "[[ 0.50313876]\n",
      " [ 0.49334065]\n",
      " [ 0.49577091]\n",
      " [ 0.49686044]\n",
      " [ 0.49668496]\n",
      " [ 0.50059763]\n",
      " [ 0.49291947]\n",
      " [ 0.4976719 ]\n",
      " [ 0.49070867]\n",
      " [ 0.49786525]]\n",
      "Squared error sum is 2.45952086438\n"
     ]
    }
   ],
   "source": [
    "trainingSize = 2 #Total number of training examples\n",
    "for d in range(1,trainingSize+1): #\n",
    "    pixelValues = data[d][1:] #Get pixel values of data\n",
    "    pixelValues = pixelValues.astype(np.int) #Convert the data from strings to integers\n",
    "    pixelValues = pixelValues.reshape((784,1)) #Reshape data as a 784 by 1 matrix\n",
    "\n",
    "    x = pixelValues #Input data\n",
    "    x = x/255 #map grayscale values (0-255) to a value between 0 and 1 \n",
    "    z_1 = np.dot(layer1_w,x)+layer1_b #Take dot product of layer_1 and input pixel values\n",
    "    activation_1 = sigmoid(z_1) #Activation function of z_1. This is the output of layer_1 which is the input to layer_2\n",
    "\n",
    "    z_2 = np.dot(layer2_w,activation_1)+layer2_b #Take dot product of layer_2 and layer_1 values\n",
    "    activation_2 = sigmoid(z_2) #Activation function of z_2. This is the output or 'guesses'\n",
    "    \n",
    "    print(\"Digit example %s final layer activation (guesses):\" %(d))\n",
    "    print(activation_2) #Print guesses\n",
    "    \n",
    "    #Calculate squared error sum of activation_2\n",
    "    label = data[d][0].astype(np.int) #Get label of curret datapoint as integer  \n",
    "    errors = activation_2.copy() #Copy elements of activation_2 into errors\n",
    "    errors[label][0] = 1 - activation_2[label] #Get error of index of target value\n",
    "    squaredErrorSum = 0 \n",
    "    for e in range(errors.size):\n",
    "        squaredErrorSum += (errors[e][0] ** 2) #Sum up errors and square them\n",
    "    print(\"Squared error sum is\",squaredErrorSum)"
   ]
  },
  {
   "cell_type": "code",
   "execution_count": null,
   "metadata": {
    "collapsed": true
   },
   "outputs": [],
   "source": []
  }
 ],
 "metadata": {
  "kernelspec": {
   "display_name": "Python 3",
   "language": "python",
   "name": "python3"
  },
  "language_info": {
   "codemirror_mode": {
    "name": "ipython",
    "version": 3
   },
   "file_extension": ".py",
   "mimetype": "text/x-python",
   "name": "python",
   "nbconvert_exporter": "python",
   "pygments_lexer": "ipython3",
   "version": "3.6.3"
  }
 },
 "nbformat": 4,
 "nbformat_minor": 2
}
